{
 "cells": [
  {
   "cell_type": "code",
   "execution_count": null,
   "metadata": {},
   "outputs": [],
   "source": [
    "import gym\n",
    "import numpy as np\n",
    "env = gym.make(\"FrozenLake-v1\")\n",
    "\n",
    "alpha = 0.4\n",
    "gamma = 0.999\n",
    "\n",
    "q_table = dict([(x, [1, 1, 1, 1]) for x in range(16)])\n",
    "score = []\n",
    "\n",
    "def choose_action(observation):\n",
    "    return np.argmax(q_table[observation])\n",
    "\n",
    "for i in range(1000):\n",
    "    observation = env.reset()\n",
    "    env.render()\n",
    "    action = choose_action(observation)\n",
    "\n",
    "    prev_observation = None\n",
    "    prev_action      = None\n",
    "\n",
    "    t = 0\n",
    "\n",
    "    for t in range(250):\n",
    "        observation, reward, done, info = env.step(action)\n",
    "        env.render()\n",
    "        action = choose_action(observation)\n",
    "\n",
    "        if not prev_observation is None:\n",
    "            q_old = q_table[prev_observation][prev_action]\n",
    "            q_new = q_old\n",
    "            if done:\n",
    "                q_new += alpha * (reward - q_old)\n",
    "            else:\n",
    "                q_new += alpha * (reward + gamma * q_table[observation][action] - q_old)\n",
    "\n",
    "            new_table = q_table[prev_observation]\n",
    "            new_table[prev_action] = q_new\n",
    "            q_table[prev_observation] = new_table\n",
    "\n",
    "        prev_observation = observation\n",
    "        prev_action = action\n",
    "\n",
    "        if done:\n",
    "            if len(score) < 100:\n",
    "                score.append(reward)\n",
    "            else:\n",
    "                score[i % 100] = reward\n",
    "\n",
    "            print(\"Episode {} finished after {} timesteps with r={}. Running score: {}\".format(i, t, reward, np.mean(score)))\n",
    "            break"
   ]
  }
 ],
 "metadata": {
  "kernelspec": {
   "display_name": "Python 3.9.5 64-bit",
   "language": "python",
   "name": "python3"
  },
  "language_info": {
   "name": "python",
   "version": "3.9.5"
  },
  "orig_nbformat": 4,
  "vscode": {
   "interpreter": {
    "hash": "aee8b7b246df8f9039afb4144a1f6fd8d2ca17a180786b69acc140d282b71a49"
   }
  }
 },
 "nbformat": 4,
 "nbformat_minor": 2
}
